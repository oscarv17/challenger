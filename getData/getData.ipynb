{
 "cells": [
  {
   "cell_type": "code",
   "execution_count": null,
   "metadata": {},
   "outputs": [],
   "source": [
    "import pandas as pd\n",
    "import pymongo as mongo"
   ]
  },
  {
   "cell_type": "code",
   "execution_count": null,
   "metadata": {},
   "outputs": [],
   "source": [
    "def getData():\n",
    "    # MongoDB connection\n",
    "    client = mongo.MongoClient('mongodb://localhost:27017/challenger')\n",
    "    mongodb = client.challenger.users\n",
    "    cursor=mongodb.aggregate([\n",
    "        {\"$unwind\":\"$purchases\"},\n",
    "        {\"$project\":\n",
    "                {\n",
    "                    \"_id\":0,\n",
    "                    \"purchaseID\":\"$purchases.purchaseID\",\n",
    "                    \"purchaseTotal\":\"$purchases.purchaseTotal\",\n",
    "                    \"purchaseDate\":\"$purchases.purchaseDate\",\n",
    "                    \"dealID\":\"$purchases.dealID\",\n",
    "                    \"categoryID\":\"$purchases.categoryID\",\n",
    "                    \"category\":\"$purchases.category\",\n",
    "                    \"userID\":1,\n",
    "                }\n",
    "        }\n",
    "    ])\n",
    "    data=pd.DataFrame(list(cursor))\n",
    "    client.close()\n",
    "    return data"
   ]
  }
 ],
 "metadata": {
  "kernelspec": {
   "display_name": "Python 3",
   "language": "python",
   "name": "python3"
  },
  "language_info": {
   "codemirror_mode": {
    "name": "ipython",
    "version": 3
   },
   "file_extension": ".py",
   "mimetype": "text/x-python",
   "name": "python",
   "nbconvert_exporter": "python",
   "pygments_lexer": "ipython3",
   "version": "3.6.5"
  }
 },
 "nbformat": 4,
 "nbformat_minor": 2
}

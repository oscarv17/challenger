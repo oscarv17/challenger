{
 "cells": [
  {
   "cell_type": "code",
   "execution_count": 1,
   "metadata": {},
   "outputs": [],
   "source": [
    "# Importing libraries"
   ]
  },
  {
   "cell_type": "code",
   "execution_count": 2,
   "metadata": {},
   "outputs": [],
   "source": [
    "import pandas as pd\n",
    "import pymysql as mysql\n",
    "import pymongo as mongo"
   ]
  },
  {
   "cell_type": "code",
   "execution_count": 3,
   "metadata": {},
   "outputs": [],
   "source": [
    "# MySQL Connection\n",
    "hostname = \"localhost\"\n",
    "user = \"chllg\"\n",
    "password = \"123456\"\n",
    "database = \"agora\"\n",
    "mysql_con = mysql.connect(host=hostname, user=user, passwd=password, db=database )"
   ]
  },
  {
   "cell_type": "code",
   "execution_count": 4,
   "metadata": {},
   "outputs": [],
   "source": [
    "# MongoDB connection\n",
    "client = mongo.MongoClient('mongodb://localhost:27017/challenger')\n",
    "mongodb = client.challenger.users"
   ]
  },
  {
   "cell_type": "code",
   "execution_count": 5,
   "metadata": {},
   "outputs": [],
   "source": [
    "def getData(mysql_con):\n",
    "    data = pd.read_sql(\"SELECT p.user_id as userID, p.id as PurchaseID, p.total as totalPurchase, p.date_purchase as datePurchase, d.id as dealID,\"+ \n",
    "    \" c.id as categoryID, c.label as category\"+\n",
    "    \" FROM purchases p INNER JOIN purchases_deals pd\"+\n",
    "    \" ON pd.purchase_id=p.id\"+\n",
    "    \" INNER JOIN deals as d\"+\n",
    "    \" ON d.id=pd.deal_id\"+\n",
    "    \" INNER JOIN categories c\"+\n",
    "    \" ON c.id=d.l1_category_id\"+\n",
    "    \" WHERE pd.purchases_deals_state_id=9 and\"+\n",
    "    \" d.state_id=1 and d.deal_type_id in (1,2) and d.deal_multiplicity_id in (1,3) and d.date_begin  >= '2016-01-01' and\"+\n",
    "    \" c.category_type_id=1\"+\n",
    "    \" ORDER BY userID\", con=mysql_con)\n",
    "    print(\"read!!\")\n",
    "    return data"
   ]
  },
  {
   "cell_type": "code",
   "execution_count": 6,
   "metadata": {
    "scrolled": true
   },
   "outputs": [],
   "source": [
    "def insertToMongo(data):\n",
    "    groups=data.groupby('userID')\n",
    "    users=[]\n",
    "    for key, item in groups:\n",
    "        df=groups.get_group(key)\n",
    "        user={}\n",
    "        purchases=[]\n",
    "        for index, row in df.iterrows():\n",
    "            purchases.append({\n",
    "                \"purchaseID\":int(row[\"PurchaseID\"]),\n",
    "                \"purchaseTotal\":int(row[\"totalPurchase\"]),\n",
    "                \"purchaseDate\":str(row[\"datePurchase\"]),\n",
    "                \"dealID\":int(row[\"dealID\"]),\n",
    "                \"category\":str(row[\"category\"]),\n",
    "                \"categoryID\":int(row[\"categoryID\"])\n",
    "            })\n",
    "        user={\n",
    "            \"userID\":int(key)   \n",
    "        }\n",
    "        user[\"purchases\"]=purchases\n",
    "        users.append(user)\n",
    "    mongodb.insert_many(users)\n",
    "    print(\"Inserted!\")"
   ]
  },
  {
   "cell_type": "code",
   "execution_count": 7,
   "metadata": {},
   "outputs": [],
   "source": [
    "def main():\n",
    "    data=getData(mysql_con)\n",
    "    insertToMongo(data)\n",
    "    mysql_con.close()\n",
    "    client.close()"
   ]
  },
  {
   "cell_type": "code",
   "execution_count": 8,
   "metadata": {},
   "outputs": [
    {
     "name": "stdout",
     "output_type": "stream",
     "text": [
      "read!!\n",
      "Inserted!\n"
     ]
    }
   ],
   "source": [
    "main()\n"
   ]
  }
 ],
 "metadata": {
  "kernelspec": {
   "display_name": "Python 3",
   "language": "python",
   "name": "python3"
  },
  "language_info": {
   "codemirror_mode": {
    "name": "ipython",
    "version": 3
   },
   "file_extension": ".py",
   "mimetype": "text/x-python",
   "name": "python",
   "nbconvert_exporter": "python",
   "pygments_lexer": "ipython3",
   "version": "3.7.1"
  }
 },
 "nbformat": 4,
 "nbformat_minor": 2
}
